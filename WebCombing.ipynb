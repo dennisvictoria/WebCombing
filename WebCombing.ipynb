{
  "nbformat": 4,
  "nbformat_minor": 0,
  "metadata": {
    "colab": {
      "provenance": [],
      "authorship_tag": "ABX9TyM0/JUC/0URqTqBVk6VobKF",
      "include_colab_link": true
    },
    "kernelspec": {
      "name": "python3",
      "display_name": "Python 3"
    },
    "language_info": {
      "name": "python"
    }
  },
  "cells": [
    {
      "cell_type": "markdown",
      "metadata": {
        "id": "view-in-github",
        "colab_type": "text"
      },
      "source": [
        "<a href=\"https://colab.research.google.com/github/dennisvictoria/WebCombing/blob/main/WebCombing.ipynb\" target=\"_parent\"><img src=\"https://colab.research.google.com/assets/colab-badge.svg\" alt=\"Open In Colab\"/></a>"
      ]
    },
    {
      "cell_type": "code",
      "execution_count": null,
      "metadata": {
        "id": "Rzwj6a_faFyW"
      },
      "outputs": [],
      "source": [
        "##Start Date: 6/23/23\n",
        "##Goal: Create a program or application script to comb the web\n",
        "  ##Highlight key words such as job requirements (java, C++, etc)\n",
        "  ##train the model to essentially scrape the web and report back a list of job requirements\n",
        ""
      ]
    },
    {
      "cell_type": "code",
      "source": [
        "##Part One"
      ],
      "metadata": {
        "id": "OKLdklAjagCo"
      },
      "execution_count": null,
      "outputs": []
    },
    {
      "cell_type": "code",
      "source": [
        "#importing librarys\n",
        "from selenium import webdriver\n",
        "from BeautifulSoup import BeautifulSoup\n",
        "import pandas as pd"
      ],
      "metadata": {
        "id": "vQ4q1ezPcDzC"
      },
      "execution_count": null,
      "outputs": []
    }
  ]
}